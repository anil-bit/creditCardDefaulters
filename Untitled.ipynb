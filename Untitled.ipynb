{
 "cells": [
  {
   "cell_type": "markdown",
   "metadata": {},
   "source": [
    "#creating the schema file"
   ]
  },
  {
   "cell_type": "code",
   "execution_count": 58,
   "metadata": {},
   "outputs": [],
   "source": [
    "import json\n",
    "from os import listdir\n",
    "import re"
   ]
  },
  {
   "cell_type": "code",
   "execution_count": null,
   "metadata": {},
   "outputs": [],
   "source": []
  },
  {
   "cell_type": "code",
   "execution_count": 79,
   "metadata": {},
   "outputs": [],
   "source": [
    "class raw_data_validation:\n",
    "    def __init__(self,path):\n",
    "        self.schema_path = \"schema_training.json\"\n",
    "        self.batch_dir = path\n",
    "        \n",
    "    def valuesfromscema(self):\n",
    "        '''\n",
    "        method name = valuesfromscema\n",
    "        purpose: to extract the information providef by the schema file\n",
    "        input: the schema file\n",
    "        output: LengthOfDateStampInFile, \n",
    "                LengthOfTimeStampInFile, \n",
    "                column_names, \n",
    "                Number of Columns.\n",
    "        \n",
    "        \n",
    "\n",
    "        '''\n",
    "        #open json file which is scema file of trainig data\n",
    "        with open(self.schema_path,\"r\") as f:\n",
    "            dic = json.load(f)\n",
    "            #f.close()\n",
    "            samplefilename = dic['SampleFileName']\n",
    "            lengthofdatestample = dic[\"LengthOfDateStampInFile\"]\n",
    "            lengthoftimestampfile = dic[\"LengthOfTimeStampInFile\"]\n",
    "            numberofcolumns = dic[\"NumberofColumns\"]\n",
    "            return samplefilename,lengthofdatestample,lengthoftimestampfile,numberofcolumns\n",
    "            #print(\"anil\")\n",
    "            \n",
    "            \n",
    "            \n",
    "    def manualRegexCreation(self):\n",
    "        \"\"\"\n",
    "                                Method Name: manualRegexCreation\n",
    "                                Description: This method contains a manually defined regex based on the \"FileName\" given in \"Schema\" file.\n",
    "                                            This Regex is used to validate the filename of the training data.\n",
    "                                Output: Regex pattern\n",
    "                                On Failure: None\n",
    "\n",
    "                                 Written By: iNeuron Intelligence\n",
    "                                Version: 1.0\n",
    "                                Revisions: None\n",
    "\n",
    "                                        \"\"\"\n",
    "        # sample file name: \"creditCardFraud_021119920_010222.csv\"\n",
    "        regex = \"['creditCardFraud']+['\\_'']+[\\d_]+[\\d]+\\.csv\"\n",
    "        print(regex)\n",
    "        return regex\n",
    "            \n",
    "    def validationfilenameeaw(self,regex,lengthofdatestample,):\n",
    "        onlyfiles = [f for f in listdir(self.batch_dir)]\n",
    "        #print(onlyfiles)\n",
    "        for files in onlyfiles:\n",
    "            if (re.match(regex,files)):\n",
    "                splittatdot = re.split(\".csv\",files)\n",
    "                splittatdot = re.split(\"_\",splittatdot[0])\n",
    "                if splittatdot[1]==lengthofdatestample:\n",
    "                    if splittatdot[2]==lengthoftimestampfile:\n",
    "                        print(files,\"ok\")\n",
    "                #splittatdot = re.split(\"_\",sp)\n",
    "                break\n",
    "            \n",
    "            \n",
    "            \n",
    "        \n",
    "        \n",
    "            \n",
    "            \n",
    "            \n",
    "            \n",
    "            \n",
    "        \n",
    "        \n",
    "        "
   ]
  },
  {
   "cell_type": "code",
   "execution_count": 80,
   "metadata": {},
   "outputs": [],
   "source": [
    "anil = raw_data_validation(\"/home/anil/Videos/my_project/creditCardDefaulters/scratch/Training_Batch_Files\")"
   ]
  },
  {
   "cell_type": "code",
   "execution_count": 68,
   "metadata": {},
   "outputs": [
    {
     "data": {
      "text/plain": [
       "\"['creditCardFraud']+['\\\\_'']+[\\\\d_]+[\\\\d]+\\\\.csv\""
      ]
     },
     "execution_count": 68,
     "metadata": {},
     "output_type": "execute_result"
    }
   ],
   "source": [
    "regex = anil.manualRegexCreation()\n",
    "regex"
   ]
  },
  {
   "cell_type": "code",
   "execution_count": 81,
   "metadata": {},
   "outputs": [
    {
     "name": "stdout",
     "output_type": "stream",
     "text": [
      "['creditCardFraud', '28011990', '120240']\n"
     ]
    }
   ],
   "source": [
    "anil.validationfilenameeaw(regex)"
   ]
  },
  {
   "cell_type": "code",
   "execution_count": 51,
   "metadata": {},
   "outputs": [
    {
     "name": "stdout",
     "output_type": "stream",
     "text": [
      "creditCardFraud_28011990_120240.csv\n"
     ]
    }
   ],
   "source": [
    "anil.validationfilenameeaw()"
   ]
  },
  {
   "cell_type": "code",
   "execution_count": 13,
   "metadata": {},
   "outputs": [],
   "source": [
    "samplefilename,lengthofdatestample,lengthoftimestampfile,numberofcolumns = anil.valuesfromscema()"
   ]
  },
  {
   "cell_type": "code",
   "execution_count": 15,
   "metadata": {},
   "outputs": [
    {
     "name": "stdout",
     "output_type": "stream",
     "text": [
      "24\n"
     ]
    }
   ],
   "source": [
    "print(numberofcolumns)"
   ]
  },
  {
   "cell_type": "markdown",
   "metadata": {},
   "source": [
    "#logging class"
   ]
  },
  {
   "cell_type": "code",
   "execution_count": 17,
   "metadata": {},
   "outputs": [],
   "source": [
    "from datetime import datetime"
   ]
  },
  {
   "cell_type": "code",
   "execution_count": 19,
   "metadata": {},
   "outputs": [
    {
     "data": {
      "text/plain": [
       "datetime.datetime(2022, 12, 1, 6, 42, 32, 80446)"
      ]
     },
     "execution_count": 19,
     "metadata": {},
     "output_type": "execute_result"
    }
   ],
   "source": [
    "datetime.now()"
   ]
  },
  {
   "cell_type": "code",
   "execution_count": 22,
   "metadata": {},
   "outputs": [
    {
     "data": {
      "text/plain": [
       "datetime.date(2022, 12, 1)"
      ]
     },
     "execution_count": 22,
     "metadata": {},
     "output_type": "execute_result"
    }
   ],
   "source": [
    "datetime.now().date()"
   ]
  },
  {
   "cell_type": "code",
   "execution_count": 28,
   "metadata": {},
   "outputs": [],
   "source": [
    "class App_Logger:\n",
    "    def __init__(self):\n",
    "        pass\n",
    "    \n",
    "    def log(self,file_object,log_message):\n",
    "        self.now = datetime.now()\n",
    "        self.date = self.now.date()\n",
    "        self.current_time = self.now.strftime(\"%H:%M:%S\")\n",
    "        file_object.write(\n",
    "            str(self.date) + \"/\" + str(self.current_time) + \"\\t\\t\" + log_message + \"\\n\")\n",
    "        \n",
    "        "
   ]
  },
  {
   "cell_type": "code",
   "execution_count": 29,
   "metadata": {},
   "outputs": [],
   "source": [
    "a = App_Logger()"
   ]
  },
  {
   "cell_type": "code",
   "execution_count": 30,
   "metadata": {},
   "outputs": [
    {
     "name": "stdout",
     "output_type": "stream",
     "text": [
      "2022-12-01/06:55:47\t\tanil\n",
      "\n"
     ]
    }
   ],
   "source": [
    "a.log(\"anil\")"
   ]
  },
  {
   "cell_type": "code",
   "execution_count": null,
   "metadata": {},
   "outputs": [],
   "source": [
    " "
   ]
  }
 ],
 "metadata": {
  "kernelspec": {
   "display_name": "Python 3 (ipykernel)",
   "language": "python",
   "name": "python3"
  },
  "language_info": {
   "codemirror_mode": {
    "name": "ipython",
    "version": 3
   },
   "file_extension": ".py",
   "mimetype": "text/x-python",
   "name": "python",
   "nbconvert_exporter": "python",
   "pygments_lexer": "ipython3",
   "version": "3.10.6"
  }
 },
 "nbformat": 4,
 "nbformat_minor": 2
}
